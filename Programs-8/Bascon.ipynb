{
 "cells": [
  {
   "cell_type": "markdown",
   "metadata": {},
   "source": [
    "# Programs-8\n"
   ]
  },
  {
   "cell_type": "code",
   "execution_count": 2,
   "metadata": {},
   "outputs": [
    {
     "name": "stdout",
     "output_type": "stream",
     "text": [
      "Fibonacci sequence : \n",
      "0\n",
      "1\n",
      "1\n",
      "2\n",
      "3\n"
     ]
    }
   ],
   "source": [
    "def rfib(n):\n",
    "    if n<=1:\n",
    "       return 1\n",
    "    else:\n",
    "       return (rfib(n-1)+rfib(n-2))\n",
    "a=int(input(\" Enter No.of terms you want : \"))\n",
    "if a<=0:\n",
    "     print(\"!!! Enter a positive integer !!!\")\n",
    "else:\n",
    "     print(\"Fibonacci sequence : \")\n",
    "     print(0)\n",
    "     for i in range(a-1):\n",
    "          print(rfib(i))"
   ]
  }
 ],
 "metadata": {
  "kernelspec": {
   "display_name": "Python 3",
   "language": "python",
   "name": "python3"
  },
  "language_info": {
   "codemirror_mode": {
    "name": "ipython",
    "version": 3
   },
   "file_extension": ".py",
   "mimetype": "text/x-python",
   "name": "python",
   "nbconvert_exporter": "python",
   "pygments_lexer": "ipython3",
   "version": "3.12.4"
  }
 },
 "nbformat": 4,
 "nbformat_minor": 2
}
