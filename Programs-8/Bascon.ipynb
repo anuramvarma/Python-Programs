{
 "cells": [
  {
   "cell_type": "markdown",
   "metadata": {},
   "source": [
    "# Programs-8\n"
   ]
  },
  {
   "cell_type": "code",
   "execution_count": 20,
   "metadata": {},
   "outputs": [
    {
     "name": "stdout",
     "output_type": "stream",
     "text": [
      "Sum of All Items in Dictionary :   Anuram Varma CSE VITB Bvrm \n"
     ]
    }
   ],
   "source": [
    "d={1:\"Anuram\",2:\"Varma\",3:\"CSE\",4:\"VITB\",5:\"Bvrm\"}\n",
    "sum=\" \"\n",
    "for i in d.values():\n",
    "    sum=sum+i+\" \"\n",
    "print(\"Sum of All Items in Dictionary : \",sum)\n"
   ]
  }
 ],
 "metadata": {
  "kernelspec": {
   "display_name": "Python 3",
   "language": "python",
   "name": "python3"
  },
  "language_info": {
   "codemirror_mode": {
    "name": "ipython",
    "version": 3
   },
   "file_extension": ".py",
   "mimetype": "text/x-python",
   "name": "python",
   "nbconvert_exporter": "python",
   "pygments_lexer": "ipython3",
   "version": "3.12.4"
  }
 },
 "nbformat": 4,
 "nbformat_minor": 2
}
