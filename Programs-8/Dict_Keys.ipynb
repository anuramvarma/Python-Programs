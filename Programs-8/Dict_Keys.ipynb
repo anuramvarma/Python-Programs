{
 "cells": [
  {
   "cell_type": "markdown",
   "metadata": {},
   "source": [
    "# Dictionary_Keys\n"
   ]
  },
  {
   "cell_type": "code",
   "execution_count": 9,
   "metadata": {},
   "outputs": [
    {
     "name": "stdout",
     "output_type": "stream",
     "text": [
      "Key is Found in DICT\n"
     ]
    }
   ],
   "source": [
    "d = {1:\"RAM\",2:\"Varma\",3:\"VIT\",4:\"CSE\",5:\"CREW\",6:\"AVSV\"}\n",
    "k=int(input(\"Enter key to find in Dict : \"))\n",
    "if k in d.keys():\n",
    "    print(\"Key is Found in DICTIONARY\")\n",
    "else:\n",
    "    print(\"KEY IS NOT FOUND IN DICTIONARY...\")    "
   ]
  }
 ],
 "metadata": {
  "kernelspec": {
   "display_name": "Python 3",
   "language": "python",
   "name": "python3"
  },
  "language_info": {
   "codemirror_mode": {
    "name": "ipython",
    "version": 3
   },
   "file_extension": ".py",
   "mimetype": "text/x-python",
   "name": "python",
   "nbconvert_exporter": "python",
   "pygments_lexer": "ipython3",
   "version": "3.12.4"
  }
 },
 "nbformat": 4,
 "nbformat_minor": 2
}
