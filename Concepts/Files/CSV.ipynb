{
 "cells": [
  {
   "cell_type": "markdown",
   "metadata": {},
   "source": [
    "# Creating a Table\n"
   ]
  },
  {
   "cell_type": "code",
   "execution_count": 25,
   "metadata": {},
   "outputs": [],
   "source": [
    "import csv\n",
    "\n",
    "\n",
    "data=[\n",
    "      ['S.no','Roll_NO','Name'],\n",
    "      [1,11,'Anu'],\n",
    "      [2,12,'Ram'],\n",
    "      [3,13,'Varma']\n",
    "]\n",
    "with open('table.csv','w',newline='') as file:\n",
    "    w=csv.writer(file)\n",
    "    w.writerows(data)\n",
    "\n"
   ]
  },
  {
   "cell_type": "code",
   "execution_count": 26,
   "metadata": {},
   "outputs": [
    {
     "name": "stdout",
     "output_type": "stream",
     "text": [
      "['S.no', 'Roll_NO', 'Name']\n",
      "['1', '11', 'Anu']\n",
      "['2', '12', 'Ram']\n",
      "['3', '13', 'Varma']\n"
     ]
    }
   ],
   "source": [
    "import csv\n",
    "f=open('table.csv','r')\n",
    "read_file=csv.reader(f)\n",
    "for row in read_file:\n",
    "    print(row)"
   ]
  }
 ],
 "metadata": {
  "kernelspec": {
   "display_name": "Python 3",
   "language": "python",
   "name": "python3"
  },
  "language_info": {
   "codemirror_mode": {
    "name": "ipython",
    "version": 3
   },
   "file_extension": ".py",
   "mimetype": "text/x-python",
   "name": "python",
   "nbconvert_exporter": "python",
   "pygments_lexer": "ipython3",
   "version": "3.12.4"
  }
 },
 "nbformat": 4,
 "nbformat_minor": 2
}
