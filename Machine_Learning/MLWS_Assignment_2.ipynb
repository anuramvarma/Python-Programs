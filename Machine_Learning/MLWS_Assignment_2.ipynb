{
  "nbformat": 4,
  "nbformat_minor": 0,
  "metadata": {
    "colab": {
      "provenance": [],
      "authorship_tag": "ABX9TyPvkSFLjc0QZl2boF9bdFKo",
      "include_colab_link": true
    },
    "kernelspec": {
      "name": "python3",
      "display_name": "Python 3"
    },
    "language_info": {
      "name": "python"
    }
  },
  "cells": [
    {
      "cell_type": "markdown",
      "metadata": {
        "id": "view-in-github",
        "colab_type": "text"
      },
      "source": [
        "<a href=\"https://colab.research.google.com/github/anuramvarma/Python-Programs/blob/main/Machine_Learning/MLWS_Assignment_2.ipynb\" target=\"_parent\"><img src=\"https://colab.research.google.com/assets/colab-badge.svg\" alt=\"Open In Colab\"/></a>"
      ]
    },
    {
      "cell_type": "code",
      "source": [
        "pip install pandas"
      ],
      "metadata": {
        "colab": {
          "base_uri": "https://localhost:8080/",
          "height": 0
        },
        "id": "UTAfobOXLpC2",
        "outputId": "1d659293-2cf5-43f8-aedd-d5e5c248221a"
      },
      "execution_count": 1,
      "outputs": [
        {
          "output_type": "stream",
          "name": "stdout",
          "text": [
            "Requirement already satisfied: pandas in /usr/local/lib/python3.10/dist-packages (2.2.2)\n",
            "Requirement already satisfied: numpy>=1.22.4 in /usr/local/lib/python3.10/dist-packages (from pandas) (1.26.4)\n",
            "Requirement already satisfied: python-dateutil>=2.8.2 in /usr/local/lib/python3.10/dist-packages (from pandas) (2.8.2)\n",
            "Requirement already satisfied: pytz>=2020.1 in /usr/local/lib/python3.10/dist-packages (from pandas) (2024.2)\n",
            "Requirement already satisfied: tzdata>=2022.7 in /usr/local/lib/python3.10/dist-packages (from pandas) (2024.2)\n",
            "Requirement already satisfied: six>=1.5 in /usr/local/lib/python3.10/dist-packages (from python-dateutil>=2.8.2->pandas) (1.17.0)\n"
          ]
        }
      ]
    },
    {
      "cell_type": "code",
      "source": [
        "import pandas as pd\n",
        "import numpy as np"
      ],
      "metadata": {
        "id": "sBvb7FMtLbbV"
      },
      "execution_count": 2,
      "outputs": []
    },
    {
      "cell_type": "markdown",
      "source": [
        "**1.Create a Pandas DataFrame from the following dictionary:**\n",
        "\n",
        "data = {\n",
        "  \n",
        "'Name': ['Alice', 'Bob', 'Carol'],\n",
        "\n",
        "'Age': [24, 27, 22],\n",
        "\n",
        "'Salary': [50000, 55000, 48000]\n",
        "\n",
        "}\n",
        "\n",
        "• Add a new column called Bonus which is 10% of the salary."
      ],
      "metadata": {
        "id": "Fv4X_bCQK206"
      }
    },
    {
      "cell_type": "code",
      "source": [
        "# Given data of dictionary\n",
        "data = {\n",
        "    'Name': ['Alice', 'Bob', 'Carol'],\n",
        "    'Age': [24, 27, 22],\n",
        "    'Salary': [50000, 55000, 48000]\n",
        "}\n",
        "df = pd.DataFrame(data)\n",
        "df['Bonus'] = df['Salary'] * 0.10\n",
        "# Displaying\n",
        "print(df)\n"
      ],
      "metadata": {
        "colab": {
          "base_uri": "https://localhost:8080/"
        },
        "id": "7gvCD8zOL1kh",
        "outputId": "44f49b4d-7e63-4f8b-a4b9-290c518423d8"
      },
      "execution_count": null,
      "outputs": [
        {
          "output_type": "stream",
          "name": "stdout",
          "text": [
            "    Name  Age  Salary   Bonus\n",
            "0  Alice   24   50000  5000.0\n",
            "1    Bob   27   55000  5500.0\n",
            "2  Carol   22   48000  4800.0\n"
          ]
        }
      ]
    },
    {
      "cell_type": "markdown",
      "source": [
        "**2.Given the DataFrame created in the above question:**\n",
        "\n",
        "• Display the first two rows.\n",
        "\n",
        "• Compute the mean salary."
      ],
      "metadata": {
        "id": "M_TC8yFMMMep"
      }
    },
    {
      "cell_type": "code",
      "source": [
        "ftr = df.head(2)\n",
        "print(\"First two rows:\")\n",
        "print(ftr)\n",
        "print(\"   \")\n",
        "mean_sal = df['Salary'].mean()\n",
        "print(\"\\nMean Salary:\")\n",
        "print(mean_sal)\n"
      ],
      "metadata": {
        "colab": {
          "base_uri": "https://localhost:8080/"
        },
        "id": "WmFLBMXXMTDF",
        "outputId": "b7c5580d-68d7-4872-e94d-61e421f83b98"
      },
      "execution_count": null,
      "outputs": [
        {
          "output_type": "stream",
          "name": "stdout",
          "text": [
            "First two rows:\n",
            "    Name  Age  Salary   Bonus\n",
            "0  Alice   24   50000  5000.0\n",
            "1    Bob   27   55000  5500.0\n",
            "   \n",
            "\n",
            "Mean Salary:\n",
            "51000.0\n"
          ]
        }
      ]
    },
    {
      "cell_type": "markdown",
      "source": [
        "**3. Using the same DataFrame:**\n",
        "\n",
        "• Extract all rows where the Age is greater than 25.\n",
        "\n",
        "• Filter out rows where the Salary is less than 50000."
      ],
      "metadata": {
        "id": "bcSx14nNMpzc"
      }
    },
    {
      "cell_type": "code",
      "source": [
        "data = {\n",
        "    'Name': ['Alice', 'Bob', 'Carol'],\n",
        "    'Age': [24, 27, 22],\n",
        "    'Salary': [50000, 55000, 48000]\n",
        "}\n",
        "df = pd.DataFrame(data)\n",
        "\n",
        "# Extract rows where Age is greater than 25\n",
        "age = df[df['Age'] > 25]\n",
        "#rows where Salary is less than 50000\n",
        "sal= df[df['Salary'] < 50000]\n",
        "print(\"Rows where Age > 25:\")\n",
        "print(age)\n",
        "print(\"\\nRows where Salary < 50000:\")\n",
        "print(sal)"
      ],
      "metadata": {
        "colab": {
          "base_uri": "https://localhost:8080/"
        },
        "id": "Pce8ZeNpMxyk",
        "outputId": "b7abdacb-e602-4b27-f41c-514b789a2ffe"
      },
      "execution_count": null,
      "outputs": [
        {
          "output_type": "stream",
          "name": "stdout",
          "text": [
            "Rows where Age > 25:\n",
            "  Name  Age  Salary\n",
            "1  Bob   27   55000\n",
            "\n",
            "Rows where Salary < 50000:\n",
            "    Name  Age  Salary\n",
            "2  Carol   22   48000\n"
          ]
        }
      ]
    },
    {
      "cell_type": "markdown",
      "source": [
        "**4. Create the following DataFrame:**\n",
        "\n",
        "data = {\n",
        "\n",
        "'A': [1, 2, None, 4],\n",
        "\n",
        "'B': [None, 2, 3, None],\n",
        "\n",
        "'C': [1, 2, 3, 4]\n",
        "\n",
        "}\n",
        "\n",
        "df = pd.DataFrame(data)\n",
        "\n",
        "• Fill missing values in column A with the mean of the column.  \n",
        "• Drop rows where all values are None."
      ],
      "metadata": {
        "id": "FT6BWhMrNKqY"
      }
    },
    {
      "cell_type": "code",
      "source": [
        "import pandas as pd\n",
        "\n",
        "# Create the DataFrame\n",
        "data = {\n",
        "    'A': [1, 2, None, 4],\n",
        "    'B': [None, 2, 3, None],\n",
        "    'C': [1, 2, 3, 4]\n",
        "}\n",
        "df = pd.DataFrame(data)\n",
        "\n",
        "# Fill missing values in column A with the mean of the column\n",
        "df = df.assign(A=df['A'].fillna(df['A'].mean()))\n",
        "\n",
        "# Drop rows where all values are None\n",
        "df.dropna(how='all', inplace=True)\n",
        "\n",
        "# Display the DataFrame\n",
        "print(df)\n"
      ],
      "metadata": {
        "colab": {
          "base_uri": "https://localhost:8080/",
          "height": 0
        },
        "id": "XeucjJ03NcLg",
        "outputId": "8ff47244-386e-4684-acd8-8af7dd00508c"
      },
      "execution_count": 9,
      "outputs": [
        {
          "output_type": "stream",
          "name": "stdout",
          "text": [
            "          A    B  C\n",
            "0  1.000000  NaN  1\n",
            "1  2.000000  2.0  2\n",
            "2  2.333333  3.0  3\n",
            "3  4.000000  NaN  4\n"
          ]
        }
      ]
    },
    {
      "cell_type": "markdown",
      "source": [
        "**5. Create a DataFrame for employees:**\n",
        "\n",
        "data = {\n",
        "\n",
        "'Department': ['HR', 'HR', 'IT', 'IT', 'Finance'],\n",
        "\n",
        "'Employee': ['Alice', 'Bob', 'Carol', 'David', 'Eve'],\n",
        "\n",
        "'Salary': [50000, 45000, 60000, 65000, 70000]\n",
        "\n",
        "}\n",
        "\n",
        "• Group the data by Department and compute the total and mean salary for each\n",
        "department."
      ],
      "metadata": {
        "id": "GpQsaWU4SXt1"
      }
    },
    {
      "cell_type": "code",
      "source": [
        "data = {\n",
        "    'Department': ['HR', 'HR', 'IT', 'IT', 'Finance'],\n",
        "    'Employee': ['Alice', 'Bob', 'Carol', 'David', 'Eve'],\n",
        "    'Salary': [50000, 45000, 60000, 65000, 70000]\n",
        "}\n",
        "df = pd.DataFrame(data)\n",
        "df2 = df.groupby('Department')['Salary'].agg(['sum', 'mean']).reset_index\n",
        "print(df2)"
      ],
      "metadata": {
        "id": "mV6dNXt7Si8n",
        "colab": {
          "base_uri": "https://localhost:8080/"
        },
        "outputId": "78d0d913-85aa-408e-8b24-357eaf04c49a"
      },
      "execution_count": null,
      "outputs": [
        {
          "output_type": "stream",
          "name": "stdout",
          "text": [
            "<bound method DataFrame.reset_index of                sum     mean\n",
            "Department                 \n",
            "Finance      70000  70000.0\n",
            "HR           95000  47500.0\n",
            "IT          125000  62500.0>\n"
          ]
        }
      ]
    },
    {
      "cell_type": "markdown",
      "source": [
        "**6.Given two DataFrames:**\n",
        "\n",
        "df1 = pd.DataFrame({'ID': [1, 2, 3], 'Name': ['Alice', 'Bob', 'Carol']})\n",
        "\n",
        "df2 = pd.DataFrame({'ID': [2, 3, 4], 'Age': [25, 30, 22]})\n",
        "\n",
        "• Perform an inner join on the ID column."
      ],
      "metadata": {
        "id": "gquGPcLgR9Mf"
      }
    },
    {
      "cell_type": "code",
      "source": [
        "df2 = pd.DataFrame({'ID': [1, 2, 3], 'Name': ['Alice', 'Bob', 'Carol']})\n",
        "df3 = pd.DataFrame({'ID': [2, 3, 4], 'Age': [25, 30, 22]})\n",
        "# inner join on the ID column.\n",
        "result = pd.merge(df2, df3, on='ID', how='inner')\n",
        "# Displaying\n",
        "print(result)"
      ],
      "metadata": {
        "colab": {
          "base_uri": "https://localhost:8080/"
        },
        "id": "fKc6r73lSCJP",
        "outputId": "92e5966c-814e-4a9d-ea49-c29d5d42c654"
      },
      "execution_count": null,
      "outputs": [
        {
          "output_type": "stream",
          "name": "stdout",
          "text": [
            "   ID   Name  Age\n",
            "0   2    Bob   25\n",
            "1   3  Carol   30\n"
          ]
        }
      ]
    },
    {
      "cell_type": "markdown",
      "source": [
        "**7. Given a small dataset, clean and display basic statistics using Pandas**\n"
      ],
      "metadata": {
        "id": "F3AcJE5RSlaP"
      }
    },
    {
      "cell_type": "code",
      "source": [
        "data = {\n",
        "    'Name': ['Anuram', 'Varma', 'Sai', 'Kiran', 'Avinash'],\n",
        "    'Age': [20, 19, None, 21, 19],\n",
        "    'Salary': [70000, 55000, 48000, None, 58000],\n",
        "    'Department': ['SE', 'IT', 'Lead', 'IT', 'Dev']\n",
        "}\n",
        "# Create DataFrame\n",
        "df = pd.DataFrame(data)\n",
        "\n",
        "# Fill missing values in 'Age' and 'Salary' with the mean of the respective columns\n",
        "df = df.assign(Age=df['Age'].fillna(df['Age'].mean()), Salary=df['Salary'].fillna(df['Salary'].mean()))\n",
        "\n",
        "# Display basic statistics\n",
        "basic_stats = df.describe()\n",
        "# Display the cleaned DataFrame and basic statistics\n",
        "print(\"Cleaned DataFrame:\")\n",
        "print(df)\n",
        "print(\"\\nBasic Statistics:\")\n",
        "print(basic_stats)"
      ],
      "metadata": {
        "id": "6XQ1hwj2SqOm",
        "colab": {
          "base_uri": "https://localhost:8080/",
          "height": 0
        },
        "collapsed": true,
        "outputId": "34f7af70-5e59-434f-86cc-ee49a0f097af"
      },
      "execution_count": 5,
      "outputs": [
        {
          "output_type": "stream",
          "name": "stdout",
          "text": [
            "Cleaned DataFrame:\n",
            "      Name    Age   Salary Department\n",
            "0   Anuram  20.00  70000.0         SE\n",
            "1    Varma  19.00  55000.0         IT\n",
            "2      Sai  19.75  48000.0       Lead\n",
            "3    Kiran  21.00  57750.0         IT\n",
            "4  Avinash  19.00  58000.0        Dev\n",
            "\n",
            "Basic Statistics:\n",
            "             Age        Salary\n",
            "count   5.000000      5.000000\n",
            "mean   19.750000  57750.000000\n",
            "std     0.829156   7949.056548\n",
            "min    19.000000  48000.000000\n",
            "25%    19.000000  55000.000000\n",
            "50%    19.750000  57750.000000\n",
            "75%    20.000000  58000.000000\n",
            "max    21.000000  70000.000000\n"
          ]
        }
      ]
    },
    {
      "cell_type": "markdown",
      "source": [
        "##8. small EDA task\n",
        "• Load the Titanic dataset (titanic.csv) into a Pandas DataFrame.\n",
        "\n",
        "• Perform the following tasks:\n",
        "\n",
        "* Display the number of missing values in each column.\n",
        "\n",
        "* Find the average age of passengers.\n",
        "\n",
        "* Create a bar plot to show the survival rate based on gender."
      ],
      "metadata": {
        "id": "Sx5HMQqb0Iwi"
      }
    },
    {
      "cell_type": "code",
      "source": [
        "import matplotlib.pyplot as plt\n",
        "\n",
        "# Loading the Titanic dataset\n",
        "df = pd.read_csv('/content/Titanic-Dataset.csv')\n",
        "\n",
        "# Displaying the number of missing values in each column\n",
        "missing_values = df.isnull().sum()\n",
        "print(\"Missing values in each column:\")\n",
        "print(missing_values)\n",
        "\n",
        "# Finding the average age of passengers\n",
        "average_age = df['Age'].mean()\n",
        "print(\"\\nAverage age of passengers:\", average_age)\n",
        "\n",
        "# Creating a bar plot to show the survival rate based on gender\n",
        "survival_rate = df.groupby('Sex')['Survived'].mean() * 100\n",
        "survival_rate.plot(kind='bar', color=['blue', 'pink'], edgecolor='black')\n",
        "\n",
        "# Customize the plot\n",
        "plt.xlabel('Gender')\n",
        "plt.ylabel('Survival Rate (%)')\n",
        "plt.title('Survival Rate Based on Gender')\n",
        "plt.show()\n"
      ],
      "metadata": {
        "colab": {
          "base_uri": "https://localhost:8080/",
          "height": 784
        },
        "id": "ydWmIMjV0aiR",
        "outputId": "4270a0c5-e9d2-4fca-d2a9-f6ab0b6c522c"
      },
      "execution_count": 6,
      "outputs": [
        {
          "output_type": "stream",
          "name": "stdout",
          "text": [
            "Missing values in each column:\n",
            "PassengerId      0\n",
            "Survived         0\n",
            "Pclass           0\n",
            "Name             0\n",
            "Sex              0\n",
            "Age            177\n",
            "SibSp            0\n",
            "Parch            0\n",
            "Ticket           0\n",
            "Fare             0\n",
            "Cabin          687\n",
            "Embarked         2\n",
            "dtype: int64\n",
            "\n",
            "Average age of passengers: 29.69911764705882\n"
          ]
        },
        {
          "output_type": "display_data",
          "data": {
            "text/plain": [
              "<Figure size 640x480 with 1 Axes>"
            ],
            "image/png": "[encoded data removed]"
          },
          "metadata": {}
        }
      ]
    },
    {
      "cell_type": "markdown",
      "source": [
        "**9. Data Transformation**\n",
        "\n",
        "• Load a dataset containing daily temperatures and dates. Perform the following:\n",
        "\n",
        "* Convert the date column into a DateTime object.\n",
        "\n",
        "* Create a new column that categorizes temperatures into High, Medium, or\n",
        "Low."
      ],
      "metadata": {
        "id": "qhiR8jFy1F5N"
      }
    },
    {
      "cell_type": "code",
      "source": [
        "import pandas as pd\n",
        "data = {\n",
        "    'Date': ['2024-12-01', '2024-12-02', '2024-12-03', '2024-12-04', '2024-12-05'],\n",
        "    'Temperature': [22, 25, 19, 30, 18]\n",
        "}\n",
        "# Created DataFrame\n",
        "df = pd.DataFrame(data)\n",
        "\n",
        "# Converting the date column into a DateTime object\n",
        "df['Date'] = pd.to_datetime(df['Date'])\n",
        "# Created a new column that categorizes temperatures into High, Medium, or Low\n",
        "def categorize_temperature(temp):\n",
        "    if temp >= 25:\n",
        "        return 'High'\n",
        "    elif temp >= 20:\n",
        "        return 'Medium'\n",
        "    else:\n",
        "        return 'Low'\n",
        "\n",
        "df['Temperature_Category'] = df['Temperature'].apply(categorize_temperature)\n",
        "# Display the transformed DataFrame\n",
        "print(df)\n"
      ],
      "metadata": {
        "colab": {
          "base_uri": "https://localhost:8080/",
          "height": 0
        },
        "id": "zwSY9EZu1PhJ",
        "outputId": "3cabdb82-7624-42a1-b389-625e2be0b679"
      },
      "execution_count": 10,
      "outputs": [
        {
          "output_type": "stream",
          "name": "stdout",
          "text": [
            "        Date  Temperature Temperature_Category\n",
            "0 2024-12-01           22               Medium\n",
            "1 2024-12-02           25                 High\n",
            "2 2024-12-03           19                  Low\n",
            "3 2024-12-04           30                 High\n",
            "4 2024-12-05           18                  Low\n"
          ]
        }
      ]
    }
  ]
}