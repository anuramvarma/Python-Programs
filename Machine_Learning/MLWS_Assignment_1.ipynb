{
  "nbformat": 4,
  "nbformat_minor": 0,
  "metadata": {
    "colab": {
      "provenance": [],
      "authorship_tag": "ABX9TyNkSoyS8/DokEoMxJW/yl6k",
      "include_colab_link": true
    },
    "kernelspec": {
      "name": "python3",
      "display_name": "Python 3"
    },
    "language_info": {
      "name": "python"
    }
  },
  "cells": [
    {
      "cell_type": "markdown",
      "metadata": {
        "id": "view-in-github",
        "colab_type": "text"
      },
      "source": [
        "<a href=\"https://colab.research.google.com/github/anuramvarma/Python-Programs/blob/main/Machine_Learning/MLWS_Assignment_1.ipynb\" target=\"_parent\"><img src=\"https://colab.research.google.com/assets/colab-badge.svg\" alt=\"Open In Colab\"/></a>"
      ]
    },
    {
      "cell_type": "markdown",
      "source": [
        "# **Assignment-1 On Machine Learning**"
      ],
      "metadata": {
        "id": "_0FZZLVVVcNA"
      }
    },
    {
      "cell_type": "code",
      "source": [
        "pip install numpy"
      ],
      "metadata": {
        "colab": {
          "base_uri": "https://localhost:8080/"
        },
        "id": "rSYblqsaVuHJ",
        "outputId": "a170ba4a-df50-4e3b-9dcf-9d8bfd2a7940"
      },
      "execution_count": null,
      "outputs": [
        {
          "output_type": "stream",
          "name": "stdout",
          "text": [
            "Requirement already satisfied: numpy in /usr/local/lib/python3.10/dist-packages (1.26.4)\n"
          ]
        }
      ]
    },
    {
      "cell_type": "code",
      "source": [
        "import numpy as av"
      ],
      "metadata": {
        "id": "U6xAjs2oV0SQ"
      },
      "execution_count": null,
      "outputs": []
    },
    {
      "cell_type": "markdown",
      "source": [
        "**1. Perform arithmetic operations on NumPy arrays.**\n"
      ],
      "metadata": {
        "id": "oLppe3lNXTHh"
      }
    },
    {
      "cell_type": "code",
      "source": [
        "a=av.array([3,4,5])\n",
        "b=av.array([6,7,8])\n",
        "print(\"Addition : \",av.add(a,b))\n",
        "print(\"Substraction : \",av.subtract(a,b))\n",
        "print(\"Division : \",av.divide(a,b))\n",
        "print(\"Multiplication : \",av.multiply(a,b))"
      ],
      "metadata": {
        "colab": {
          "base_uri": "https://localhost:8080/"
        },
        "id": "Dh8R9vuHXWz4",
        "outputId": "cebf9c4a-4ccc-4070-f414-2953a7b90472"
      },
      "execution_count": null,
      "outputs": [
        {
          "output_type": "stream",
          "name": "stdout",
          "text": [
            "Addition :  [ 9 11 13]\n",
            "Substraction :  [-3 -3 -3]\n",
            "Division :  [0.5        0.57142857 0.625     ]\n",
            "Multiplication :  [18 28 40]\n"
          ]
        }
      ]
    },
    {
      "cell_type": "markdown",
      "source": [],
      "metadata": {
        "id": "mbkxMyVbYp5k"
      }
    },
    {
      "cell_type": "markdown",
      "source": [
        "**2. Write a script to compute the mean and standard deviation of a NumPy array.**"
      ],
      "metadata": {
        "id": "Ph8GyjwdYp6G"
      }
    },
    {
      "cell_type": "code",
      "source": [
        "a=av.array([4,5,6,7,8,9,10])\n",
        "print(\"Mean Deviation : \",av.mean(a))\n",
        "print(\"Standard Deviation : \",av.std(a))"
      ],
      "metadata": {
        "colab": {
          "base_uri": "https://localhost:8080/"
        },
        "id": "ScuOkFneY1Db",
        "outputId": "c0a54939-1701-4250-8eb9-bd41c93609e1"
      },
      "execution_count": null,
      "outputs": [
        {
          "output_type": "stream",
          "name": "stdout",
          "text": [
            "Mean Deviation :  7.0\n",
            "Standard Deviation :  2.0\n"
          ]
        }
      ]
    },
    {
      "cell_type": "markdown",
      "source": [
        "**3. Create a NumPy array of integers from 10 to 50 with a step size of 5.**\n"
      ],
      "metadata": {
        "id": "vjIye8YSZdf9"
      }
    },
    {
      "cell_type": "code",
      "source": [
        "b=av.arange(10,51,5)\n",
        "print(\"Numpy Array : \",b)"
      ],
      "metadata": {
        "colab": {
          "base_uri": "https://localhost:8080/"
        },
        "id": "yOFSCwbGZlUX",
        "outputId": "b149b0a8-34c8-4d88-83c0-25a769777563"
      },
      "execution_count": null,
      "outputs": [
        {
          "output_type": "stream",
          "name": "stdout",
          "text": [
            "Numpy Array :  [10 15 20 25 30 35 40 45 50]\n"
          ]
        }
      ]
    },
    {
      "cell_type": "markdown",
      "source": [
        "**4. Reshape the array into a 2x4 matrix.**"
      ],
      "metadata": {
        "id": "txUfOgEDaSaF"
      }
    },
    {
      "cell_type": "code",
      "source": [
        "c=av.array([4,5,6,7,8,9,1,2])\n",
        "print(\"Noraml Array : \",c)\n",
        "c=c.reshape(2,4)\n",
        "print(\"Reshaped Array : \",c)"
      ],
      "metadata": {
        "colab": {
          "base_uri": "https://localhost:8080/"
        },
        "id": "xLu86S8RaWHc",
        "outputId": "2e366697-03e1-4712-cd2d-2e008d9282bf"
      },
      "execution_count": null,
      "outputs": [
        {
          "output_type": "stream",
          "name": "stdout",
          "text": [
            "Noraml Array :  [4 5 6 7 8 9 1 2]\n",
            "Reshaped Array :  [[4 5 6 7]\n",
            " [8 9 1 2]]\n"
          ]
        }
      ]
    },
    {
      "cell_type": "markdown",
      "source": [
        "**5. Given the array arr = np.array([[1, 2, 3], [4, 5, 6], [7, 8, 9]])**\n",
        "\n",
        "• Extract the sub-matrix containing the last two rows and first two columns.\n",
        "\n",
        "• Replace all elements greater than 4 with 0."
      ],
      "metadata": {
        "id": "SEuBMuCKbZNO"
      }
    },
    {
      "cell_type": "code",
      "source": [
        "x= av.array([[1, 2, 3], [4, 5, 6], [7, 8, 9]])\n",
        "print(x[1:,:2])\n",
        "x[x>4]=0\n",
        "print(\"Modified Array : \",x)"
      ],
      "metadata": {
        "colab": {
          "base_uri": "https://localhost:8080/"
        },
        "id": "T3uOdgvcbc3j",
        "outputId": "0c9c7a74-e764-4ff5-ff93-af477dfcd714"
      },
      "execution_count": null,
      "outputs": [
        {
          "output_type": "stream",
          "name": "stdout",
          "text": [
            "[[4 5]\n",
            " [7 8]]\n",
            "Modified Array :  [[1 2 3]\n",
            " [4 0 0]\n",
            " [0 0 0]]\n"
          ]
        }
      ]
    },
    {
      "cell_type": "markdown",
      "source": [
        "**6. Create two 1D arrays**\n",
        "\n",
        "• a = np.array([1, 2, 3])\n",
        "\n",
        "• b = np.array([4, 5, 6])\n",
        "\n",
        "• Perform element-wise addition, multiplication, and division."
      ],
      "metadata": {
        "id": "FxRbfcZKcXdD"
      }
    },
    {
      "cell_type": "code",
      "source": [
        "x= av.array([1, 2, 3])\n",
        "y=av.array([4, 5, 6])\n",
        "#using Normal operations\n",
        "print(x+y)\n",
        "print(x*y)\n",
        "print(x/y)\n",
        "print(\" \")\n",
        "#using Methods\n",
        "print(\"Addition : \",av.add(x,y))\n",
        "print(\"Substraction : \",av.subtract(x,y))\n",
        "print(\"Division : \",av.divide(x,y))\n",
        "print(\"Multiplication : \",av.multiply(x,y))"
      ],
      "metadata": {
        "colab": {
          "base_uri": "https://localhost:8080/"
        },
        "id": "w_y1Rx4Gcmvm",
        "outputId": "d456aa41-7598-4a75-f719-286716f74514"
      },
      "execution_count": null,
      "outputs": [
        {
          "output_type": "stream",
          "name": "stdout",
          "text": [
            "[5 7 9]\n",
            "[ 4 10 18]\n",
            "[0.25 0.4  0.5 ]\n",
            " \n",
            "Addition :  [5 7 9]\n",
            "Substraction :  [-3 -3 -3]\n",
            "Division :  [0.25 0.4  0.5 ]\n",
            "Multiplication :  [ 4 10 18]\n"
          ]
        }
      ]
    },
    {
      "cell_type": "markdown",
      "source": [
        "**7. Create a random NumPy array of size (4, 4).\n",
        "Compute**\n",
        "\n",
        "• Mean of each column.\n",
        "\n",
        "• Maximum value of the entire array.\n",
        "\n",
        "• Sum of all elements."
      ],
      "metadata": {
        "id": "walaT-zTdkCH"
      }
    },
    {
      "cell_type": "code",
      "source": [
        "arr=av.random.randint(10,size=(4,4))\n",
        "print(\"Random array: \",arr)\n",
        "print(\"   \")\n",
        "print(\"Mean : \",av.mean(arr,axis=0))\n",
        "print(\"Maximum : \",av.max(arr))\n",
        "print(\"Sum : \",av.sum(arr))"
      ],
      "metadata": {
        "colab": {
          "base_uri": "https://localhost:8080/"
        },
        "id": "-DSasQJ2d0VC",
        "outputId": "a34b581d-413b-476f-beb5-3f962d82ab58"
      },
      "execution_count": null,
      "outputs": [
        {
          "output_type": "stream",
          "name": "stdout",
          "text": [
            "Random array:  [[1 4 8 9]\n",
            " [0 0 6 0]\n",
            " [1 7 9 3]\n",
            " [8 7 9 3]]\n",
            "   \n",
            "Mean :  [2.5  4.5  8.   3.75]\n",
            "Maximum :  9\n",
            "Sum :  75\n"
          ]
        }
      ]
    },
    {
      "cell_type": "markdown",
      "source": [
        "**8. Given the array arr = np.array([1, 2, 3, 4]), add 10 to each element and multiply\n",
        "the result by 2.**"
      ],
      "metadata": {
        "id": "f-gJmovQfJAL"
      }
    },
    {
      "cell_type": "markdown",
      "source": [],
      "metadata": {
        "id": "yFrFyKvfM7U-"
      }
    },
    {
      "cell_type": "code",
      "source": [
        "z = av.array([1, 2, 3, 4])\n",
        "z=z+10\n",
        "z=z*2\n",
        "print(\"Array after operations : \",z)"
      ],
      "metadata": {
        "colab": {
          "base_uri": "https://localhost:8080/"
        },
        "id": "9QhfanA9fOOy",
        "outputId": "3992e8ed-c0dd-46cd-a426-095553fd15ef"
      },
      "execution_count": null,
      "outputs": [
        {
          "output_type": "stream",
          "name": "stdout",
          "text": [
            "Array after operations :  [22 24 26 28]\n"
          ]
        }
      ]
    },
    {
      "cell_type": "markdown",
      "source": [
        "9. Perform advanced slicing and indexing on a 3D array.\n",
        "Create a 3D NumPy array arr of shape (3, 4, 5) with random integers ranging from\n",
        "1 to 100. Perform the following:\n",
        "\n",
        "• Extract the second \"layer\" (i.e., the second 2D array) in the first dimension.\n",
        "\n",
        "• Extract the first two rows and the last three columns from each \"layer.\"\n",
        "\n",
        "• Replace all elements divisible by 3 with -1."
      ],
      "metadata": {
        "id": "ZJER4GSFfqVC"
      }
    },
    {
      "cell_type": "code",
      "source": [
        "x =av.random.randint(1,101,(3,4,5))\n",
        "print(\"Random Array : \",x)\n",
        "print(\"---------- \")\n",
        "print(\"Second Layer of Array :\",x[1])\n",
        "print(\"---------- \")\n",
        "print(\"Extraction of Array :\",x[:,0:2,2:])\n",
        "print(\"--------- \")\n",
        "x[x%3==0]=-1\n",
        "print(\"Divisible by 3 with -1\",x)\n",
        "\n"
      ],
      "metadata": {
        "colab": {
          "base_uri": "https://localhost:8080/"
        },
        "id": "tVKOCfjmNOJ0",
        "outputId": "5e314166-6690-4930-f691-8f38f4e69289"
      },
      "execution_count": null,
      "outputs": [
        {
          "output_type": "stream",
          "name": "stdout",
          "text": [
            "Random Array :  [[[65 14  2 31 23]\n",
            "  [29 68 69 30 42]\n",
            "  [63 20 91 22 85]\n",
            "  [70 45  4 79 12]]\n",
            "\n",
            " [[75 67 79 69 66]\n",
            "  [84 75 59 39 32]\n",
            "  [89 68 37 66 28]\n",
            "  [94 19 13 56 42]]\n",
            "\n",
            " [[90 39 67 26 87]\n",
            "  [92 92 85 94 27]\n",
            "  [36 57 93 62 64]\n",
            "  [ 5 26 36 79  5]]]\n",
            "---------- \n",
            "Second Layer of Array : [[75 67 79 69 66]\n",
            " [84 75 59 39 32]\n",
            " [89 68 37 66 28]\n",
            " [94 19 13 56 42]]\n",
            "---------- \n",
            "Extraction of Array : [[[ 2 31 23]\n",
            "  [69 30 42]]\n",
            "\n",
            " [[79 69 66]\n",
            "  [59 39 32]]\n",
            "\n",
            " [[67 26 87]\n",
            "  [85 94 27]]]\n",
            "--------- \n",
            "Divisible by 3 with -1 [[[65 14  2 31 23]\n",
            "  [29 68 -1 -1 -1]\n",
            "  [-1 20 91 22 85]\n",
            "  [70 -1  4 79 -1]]\n",
            "\n",
            " [[-1 67 79 -1 -1]\n",
            "  [-1 -1 59 -1 32]\n",
            "  [89 68 37 -1 28]\n",
            "  [94 19 13 56 -1]]\n",
            "\n",
            " [[-1 -1 67 26 -1]\n",
            "  [92 92 85 94 -1]\n",
            "  [-1 -1 -1 62 64]\n",
            "  [ 5 26 -1 79  5]]]\n"
          ]
        }
      ]
    },
    {
      "cell_type": "markdown",
      "source": [
        "**10. Work with broadcasting and advanced operations in NumPy.\n",
        "Create a NumPy array arr of shape (3, 3) with random integers between  \n",
        "1 and 20. Perform the following:**\n",
        "\n",
        "• Subtract the mean of each row from its respective elements (row-wise\n",
        "normalization).\n",
        "\n",
        "• Create a new array by squaring all the elements in arr.\n",
        "\n",
        "• Find the indices of the top 3 maximum values in the entire array."
      ],
      "metadata": {
        "id": "wd-aFsA9P_iY"
      }
    },
    {
      "cell_type": "code",
      "source": [
        "n = av.random.randint(1,21,(3,3))\n",
        "print(n)\n",
        "print(\"---------- \")\n",
        "for i in range(3):\n",
        "  n[i] = n[i]-av.mean(n[i])\n",
        "print(\"Normalisation :\\n\",n)\n",
        "print(\"---------- \")\n",
        "print(\"Squared array :\\n\",av.square(n))\n",
        "print(\"---------- \")\n",
        "f = n.flatten()\n",
        "t = av.argsort(f)[-3:]\n",
        "row,col = av.unravel_index(t,n.shape)\n",
        "print(\"Indices of top 3 maximum values :\\n\",list(zip(row,col)))"
      ],
      "metadata": {
        "colab": {
          "base_uri": "https://localhost:8080/"
        },
        "id": "f5qlINuwQInV",
        "outputId": "c1a11620-491f-4338-aaaf-b72401a40418"
      },
      "execution_count": null,
      "outputs": [
        {
          "output_type": "stream",
          "name": "stdout",
          "text": [
            "[[19 13  1]\n",
            " [19  5 12]\n",
            " [ 7 20  7]]\n",
            "---------- \n",
            "Normalisation :\n",
            " [[  8   2 -10]\n",
            " [  7  -7   0]\n",
            " [ -4   8  -4]]\n",
            "---------- \n",
            "Squared array :\n",
            " [[ 64   4 100]\n",
            " [ 49  49   0]\n",
            " [ 16  64  16]]\n",
            "---------- \n",
            "Indices of top 3 maximum values :\n",
            " [(1, 0), (0, 0), (2, 1)]\n"
          ]
        }
      ]
    }
  ]
}